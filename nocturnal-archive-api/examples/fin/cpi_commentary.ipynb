{
  "cells": [
    {
      "cell_type": "markdown",
      "metadata": {},
      "source": [
        "# CPI ↔ Company Commentary Analysis\n",
        "\n",
        "This notebook demonstrates cross-referencing economic data with company commentary:\n",
        "1. Get FRED CPI data for recent quarters\n",
        "2. Search for company 10-Q filings with inflation commentary\n",
        "3. Synthesize grounded analysis of inflation impact\n",
        "4. Verify YoY/QoQ claims against actual data\n",
        "\n",
        "**Expected runtime:** < 5 minutes\n"
      ]
    },
    {
      "cell_type": "code",
      "execution_count": null,
      "metadata": {},
      "outputs": [],
      "source": [
        "# Get FRED CPI data for recent quarters\n",
        "cpi_request = {\n",
        "    \"source\": \"fred\",\n",
        "    \"series\": [\"CPIAUCSL\"],  # Consumer Price Index\n",
        "    \"start\": \"2023-01-01\",\n",
        "    \"end\": \"2024-12-31\"\n",
        "}\n",
        "\n",
        "print(\"📊 Getting FRED CPI data...\")\n",
        "start_time = time.time()\n",
        "\n",
        "# Note: This would call a FRED API endpoint (to be implemented)\n",
        "# For now, we'll simulate the data\n",
        "cpi_data = {\n",
        "    \"series\": [\n",
        "        {\n",
        "            \"series_id\": \"CPIAUCSL\",\n",
        "            \"freq\": \"M\",\n",
        "            \"points\": [\n",
        "                [\"2023-01-01\", 299.17],\n",
        "                [\"2023-02-01\", 300.84],\n",
        "                [\"2023-03-01\", 301.84],\n",
        "                [\"2023-04-01\", 303.36],\n",
        "                [\"2023-05-01\", 304.13],\n",
        "                [\"2023-06-01\", 304.95],\n",
        "                [\"2023-07-01\", 305.69],\n",
        "                [\"2023-08-01\", 307.03],\n",
        "                [\"2023-09-01\", 307.79],\n",
        "                [\"2023-10-01\", 308.42],\n",
        "                [\"2023-11-01\", 309.05],\n",
        "                [\"2023-12-01\", 309.69],\n",
        "                [\"2024-01-01\", 310.28],\n",
        "                [\"2024-02-01\", 310.89],\n",
        "                [\"2024-03-01\", 311.55],\n",
        "                [\"2024-04-01\", 312.23],\n",
        "                [\"2024-05-01\", 312.89],\n",
        "                [\"2024-06-01\", 313.55]\n",
        "            ]\n",
        "        }\n",
        "    ]\n",
        "}\n",
        "\n",
        "cpi_duration = time.time() - start_time\n",
        "print(f\"✅ CPI data retrieved in {cpi_duration:.2f}s\")\n",
        "print(f\"📊 CPI data points: {len(cpi_data['series'][0]['points'])}\")\n"
      ]
    },
    {
      "cell_type": "code",
      "execution_count": null,
      "metadata": {},
      "outputs": [],
      "source": [
        "import requests\n",
        "import json\n",
        "from datetime import datetime, date\n",
        "import time\n",
        "\n",
        "# Configuration\n",
        "API_BASE = \"https://api.nocturnal.dev\"\n",
        "API_KEY = \"your-api-key-here\"  # Replace with your API key\n",
        "\n",
        "headers = {\n",
        "    \"X-API-Key\": API_KEY,\n",
        "    \"Content-Type\": \"application/json\"\n",
        "}\n",
        "\n",
        "print(f\"🚀 Starting CPI commentary analysis at {datetime.now()}\")\n"
      ]
    }
  ],
  "metadata": {
    "language_info": {
      "name": "python"
    }
  },
  "nbformat": 4,
  "nbformat_minor": 2
}
